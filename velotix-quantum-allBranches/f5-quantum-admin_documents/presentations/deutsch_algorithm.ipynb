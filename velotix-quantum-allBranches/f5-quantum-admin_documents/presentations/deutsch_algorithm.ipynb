{
 "cells": [
  {
   "cell_type": "code",
   "execution_count": 19,
   "id": "6d6bc188-3365-44cb-a943-9fa63d86760c",
   "metadata": {},
   "outputs": [],
   "source": [
    "import cirq\n",
    "from cirq import H, X, CNOT, measure\n",
    "import random"
   ]
  },
  {
   "cell_type": "code",
   "execution_count": 20,
   "id": "1abdee58-28c1-4a7a-bcc6-dbd97861d363",
   "metadata": {},
   "outputs": [],
   "source": [
    "def main():\n",
    "    # Choose qubits to use.\n",
    "    q0, q1 = cirq.LineQubit.range(2)\n",
    "\n",
    "    # Pick a secret 2-bit function and create a circuit to query the oracle.\n",
    "    secret_function = [random.randint(0, 1) for _ in range(2)]\n",
    "    oracle = make_oracle(q0, q1, secret_function)\n",
    "    print(f\"Secret function:\\nf(x) = <{', '.join(str(e) for e in secret_function)}>\")\n",
    "\n",
    "    # Embed the oracle into a quantum circuit querying it exactly once.\n",
    "    circuit = make_deutsch_circuit(q0, q1, oracle)\n",
    "    print('Circuit:')\n",
    "    print(circuit)\n",
    "\n",
    "    # Simulate the circuit.\n",
    "    simulator = cirq.Simulator()\n",
    "    result = simulator.run(circuit)\n",
    "    print('Result of f(0)⊕f(1):')\n",
    "    print(result)"
   ]
  },
  {
   "cell_type": "code",
   "execution_count": 21,
   "id": "5da4a0f7-4eaf-4f3f-a21b-2fa1758b6405",
   "metadata": {},
   "outputs": [],
   "source": [
    "def make_oracle(q0, q1, secret_function):\n",
    "    \"\"\"Gates implementing the secret function f(x)\"\"\"\n",
    "\n",
    "    # coverage: ignore\n",
    "    if secret_function[0]:\n",
    "        yield [CNOT(q0, q1), X(q1)]\n",
    "\n",
    "    if secret_function[1]:\n",
    "        yield CNOT(q0, q1)"
   ]
  },
  {
   "cell_type": "code",
   "execution_count": 22,
   "id": "0ce64dc3-ae71-4838-bb51-46224fcf7164",
   "metadata": {},
   "outputs": [],
   "source": [
    "def make_deutsch_circuit(q0, q1, oracle):\n",
    "    c = cirq.Circuit()\n",
    "\n",
    "    # Initialize qubits.\n",
    "    c.append([X(q1), H(q1), H(q0)])\n",
    "\n",
    "    # Query oracle.\n",
    "    c.append(oracle)\n",
    "\n",
    "    # Measure in X basis.\n",
    "    c.append([H(q0), measure(q0, key='result')])\n",
    "    return c"
   ]
  },
  {
   "cell_type": "code",
   "execution_count": 23,
   "id": "3817c45f-cd67-4739-a580-cf74a2f188c0",
   "metadata": {},
   "outputs": [
    {
     "name": "stdout",
     "output_type": "stream",
     "text": [
      "Secret function:\n",
      "f(x) = <1, 0>\n",
      "Circuit:\n",
      "0: ───H───────@───H───M('result')───\n",
      "              │\n",
      "1: ───X───H───X───X─────────────────\n",
      "Result of f(0)⊕f(1):\n",
      "result=1\n"
     ]
    }
   ],
   "source": [
    "if __name__ == '__main__':\n",
    "    main()"
   ]
  },
  {
   "cell_type": "code",
   "execution_count": 24,
   "id": "01eb9416-cd42-4d54-abc1-5d982eb0504e",
   "metadata": {},
   "outputs": [
    {
     "data": {
      "text/plain": [
       "'\\nCircuit for f_0:\\n0: ───H───H───M───\\n\\n1: ───X───H───────\\n\\nCircuit for f_1:\\n0: ───H───H───M───\\n\\n1: ───X───H───X───\\n\\nCircuit for f_x:\\n0: ───H───────@───H───M───\\n              │\\n1: ───X───H───X───────────\\n\\nCircuit for f_notx:\\n0: ───H───────@───H───M───\\n              │\\n1: ───X───H───X───X───────\\n'"
      ]
     },
     "execution_count": 24,
     "metadata": {},
     "output_type": "execute_result"
    }
   ],
   "source": [
    "'''\n",
    "Circuit for f_0:\n",
    "0: ───H───H───M───\n",
    "\n",
    "1: ───X───H───────\n",
    "\n",
    "Circuit for f_1:\n",
    "0: ───H───H───M───\n",
    "\n",
    "1: ───X───H───X───\n",
    "\n",
    "Circuit for f_x:\n",
    "0: ───H───────@───H───M───\n",
    "              │\n",
    "1: ───X───H───X───────────\n",
    "\n",
    "Circuit for f_notx:\n",
    "0: ───H───────@───H───M───\n",
    "              │\n",
    "1: ───X───H───X───X───────\n",
    "'''"
   ]
  },
  {
   "cell_type": "code",
   "execution_count": null,
   "id": "2ce1d75a-051c-4bea-8cd3-e072dc7f23e5",
   "metadata": {},
   "outputs": [],
   "source": []
  }
 ],
 "metadata": {
  "kernelspec": {
   "display_name": "Python 3 (ipykernel)",
   "language": "python",
   "name": "python3"
  },
  "language_info": {
   "codemirror_mode": {
    "name": "ipython",
    "version": 3
   },
   "file_extension": ".py",
   "mimetype": "text/x-python",
   "name": "python",
   "nbconvert_exporter": "python",
   "pygments_lexer": "ipython3",
   "version": "3.9.7"
  }
 },
 "nbformat": 4,
 "nbformat_minor": 5
}
